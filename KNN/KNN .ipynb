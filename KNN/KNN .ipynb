{
 "cells": [
  {
   "cell_type": "markdown",
   "id": "d9e7c794",
   "metadata": {},
   "source": [
    "# KNN Algorithm"
   ]
  },
  {
   "cell_type": "code",
   "execution_count": 139,
   "id": "f0c86e0c",
   "metadata": {},
   "outputs": [],
   "source": [
    "import numpy as np\n",
    "import pandas as pd\n",
    "import matplotlib.pyplot as plt"
   ]
  },
  {
   "cell_type": "code",
   "execution_count": 140,
   "id": "70c74aae",
   "metadata": {},
   "outputs": [
    {
     "data": {
      "text/html": [
       "<div>\n",
       "<style scoped>\n",
       "    .dataframe tbody tr th:only-of-type {\n",
       "        vertical-align: middle;\n",
       "    }\n",
       "\n",
       "    .dataframe tbody tr th {\n",
       "        vertical-align: top;\n",
       "    }\n",
       "\n",
       "    .dataframe thead th {\n",
       "        text-align: right;\n",
       "    }\n",
       "</style>\n",
       "<table border=\"1\" class=\"dataframe\">\n",
       "  <thead>\n",
       "    <tr style=\"text-align: right;\">\n",
       "      <th></th>\n",
       "      <th>User ID</th>\n",
       "      <th>Gender</th>\n",
       "      <th>Age</th>\n",
       "      <th>EstimatedSalary</th>\n",
       "      <th>Purchased</th>\n",
       "    </tr>\n",
       "  </thead>\n",
       "  <tbody>\n",
       "    <tr>\n",
       "      <th>0</th>\n",
       "      <td>15624510</td>\n",
       "      <td>Male</td>\n",
       "      <td>19</td>\n",
       "      <td>19000</td>\n",
       "      <td>0</td>\n",
       "    </tr>\n",
       "    <tr>\n",
       "      <th>1</th>\n",
       "      <td>15810944</td>\n",
       "      <td>Male</td>\n",
       "      <td>35</td>\n",
       "      <td>20000</td>\n",
       "      <td>0</td>\n",
       "    </tr>\n",
       "    <tr>\n",
       "      <th>2</th>\n",
       "      <td>15668575</td>\n",
       "      <td>Female</td>\n",
       "      <td>26</td>\n",
       "      <td>43000</td>\n",
       "      <td>0</td>\n",
       "    </tr>\n",
       "    <tr>\n",
       "      <th>3</th>\n",
       "      <td>15603246</td>\n",
       "      <td>Female</td>\n",
       "      <td>27</td>\n",
       "      <td>57000</td>\n",
       "      <td>0</td>\n",
       "    </tr>\n",
       "    <tr>\n",
       "      <th>4</th>\n",
       "      <td>15804002</td>\n",
       "      <td>Male</td>\n",
       "      <td>19</td>\n",
       "      <td>76000</td>\n",
       "      <td>0</td>\n",
       "    </tr>\n",
       "  </tbody>\n",
       "</table>\n",
       "</div>"
      ],
      "text/plain": [
       "    User ID  Gender  Age  EstimatedSalary  Purchased\n",
       "0  15624510    Male   19            19000          0\n",
       "1  15810944    Male   35            20000          0\n",
       "2  15668575  Female   26            43000          0\n",
       "3  15603246  Female   27            57000          0\n",
       "4  15804002    Male   19            76000          0"
      ]
     },
     "execution_count": 140,
     "metadata": {},
     "output_type": "execute_result"
    }
   ],
   "source": [
    "data = pd.read_csv('Social_Network_Ads.csv')\n",
    "data.head()"
   ]
  },
  {
   "cell_type": "code",
   "execution_count": 141,
   "id": "d5507ef2",
   "metadata": {},
   "outputs": [
    {
     "data": {
      "text/plain": [
       "(400, 2)"
      ]
     },
     "execution_count": 141,
     "metadata": {},
     "output_type": "execute_result"
    }
   ],
   "source": [
    "# Extract two useful column \n",
    "x = data.iloc[:,2:4].values  # (.values is only for converting in array)\n",
    "x.shape"
   ]
  },
  {
   "cell_type": "code",
   "execution_count": 142,
   "id": "64f6e2cb",
   "metadata": {},
   "outputs": [
    {
     "data": {
      "text/plain": [
       "(400,)"
      ]
     },
     "execution_count": 142,
     "metadata": {},
     "output_type": "execute_result"
    }
   ],
   "source": [
    "# Extract output column\n",
    "y = data.iloc[:,-1].values\n",
    "y.shape"
   ]
  },
  {
   "cell_type": "code",
   "execution_count": 143,
   "id": "4995f8c6",
   "metadata": {},
   "outputs": [],
   "source": [
    "# Divide our data for two part for cross validataion.\n",
    "from sklearn.model_selection import train_test_split\n",
    "x_train, x_test, y_train, y_test = train_test_split(x,y,test_size=0.2)"
   ]
  },
  {
   "cell_type": "code",
   "execution_count": 144,
   "id": "f1c1a696",
   "metadata": {},
   "outputs": [
    {
     "data": {
      "text/plain": [
       "(320, 2)"
      ]
     },
     "execution_count": 144,
     "metadata": {},
     "output_type": "execute_result"
    }
   ],
   "source": [
    "x_train.shape"
   ]
  },
  {
   "cell_type": "code",
   "execution_count": 145,
   "id": "b38b384c",
   "metadata": {},
   "outputs": [
    {
     "data": {
      "text/plain": [
       "(80, 2)"
      ]
     },
     "execution_count": 145,
     "metadata": {},
     "output_type": "execute_result"
    }
   ],
   "source": [
    "x_test.shape"
   ]
  },
  {
   "cell_type": "markdown",
   "id": "e349e667",
   "metadata": {},
   "source": [
    "Because of square of difference b/w our selected column is very large thats why we use Standardscaler."
   ]
  },
  {
   "cell_type": "code",
   "execution_count": 146,
   "id": "e1277935",
   "metadata": {},
   "outputs": [],
   "source": [
    "from sklearn.preprocessing import StandardScaler\n",
    "scaler = StandardScaler()"
   ]
  },
  {
   "cell_type": "code",
   "execution_count": 147,
   "id": "97dc788d",
   "metadata": {},
   "outputs": [
    {
     "data": {
      "text/plain": [
       "array([[-0.12889981,  2.193092  ],\n",
       "       [-0.22372266, -0.33186472],\n",
       "       [-0.60301405,  0.02459976],\n",
       "       [-0.22372266, -0.45068621],\n",
       "       [-1.45641969, -0.21304322],\n",
       "       [ 0.72450583, -0.74773994],\n",
       "       [-0.22372266, -0.51009695],\n",
       "       [-1.64606538, -0.62891845],\n",
       "       [ 0.15556874, -0.83685606],\n",
       "       [-0.98230545,  0.52959111],\n",
       "       [ 0.81932867,  0.35135887],\n",
       "       [ 1.29344292,  2.25250275],\n",
       "       [ 0.25039158, -0.15363248],\n",
       "       [-1.26677399, -1.40125815],\n",
       "       [-1.07712829, -1.63890113],\n",
       "       [ 0.34521443, -0.30215934],\n",
       "       [ 0.53486013,  1.74751141],\n",
       "       [ 0.15556874,  0.26224275],\n",
       "       [-1.26677399, -0.45068621],\n",
       "       [ 1.10379722,  2.10397588],\n",
       "       [-0.22372266, -1.40125815],\n",
       "       [-0.5081912 ,  1.48016305],\n",
       "       [ 1.19862007, -1.49037427],\n",
       "       [ 0.34521443, -0.53980233],\n",
       "       [-1.45641969, -0.45068621],\n",
       "       [-1.45641969, -1.28243666],\n",
       "       [ 0.25039158,  0.14342125],\n",
       "       [ 0.25039158, -0.27245397],\n",
       "       [-1.07712829,  0.05430514],\n",
       "       [ 1.95720286, -0.95567755],\n",
       "       [-0.79265975, -0.80715069],\n",
       "       [-1.83571108, -0.06451636],\n",
       "       [ 2.0520257 ,  2.16338663],\n",
       "       [-0.98230545, -0.48039158],\n",
       "       [ 0.34521443,  0.05430514],\n",
       "       [-0.98230545, -0.36157009],\n",
       "       [-0.98230545, -0.36157009],\n",
       "       [ 1.95720286,  0.91576096],\n",
       "       [ 0.06074589, -0.27245397],\n",
       "       [-0.22372266,  0.61870723],\n",
       "       [ 0.06074589,  1.24252006],\n",
       "       [-0.79265975,  0.38106424],\n",
       "       [ 1.76755716,  1.8663329 ],\n",
       "       [-0.60301405, -0.1239271 ],\n",
       "       [-0.12889981,  1.4207523 ],\n",
       "       [-1.07712829, -0.80715069],\n",
       "       [ 0.44003728,  0.58900185],\n",
       "       [-0.31854551,  1.24252006],\n",
       "       [-0.79265975, -0.80715069],\n",
       "       [-0.6978369 ,  0.55929648],\n",
       "       [-0.03407696,  0.05430514],\n",
       "       [ 0.72450583,  0.26224275],\n",
       "       [-0.12889981, -0.48039158],\n",
       "       [ 0.81932867, -0.33186472],\n",
       "       [-0.03407696, -0.00510561],\n",
       "       [-0.22372266,  0.08401051],\n",
       "       [ 1.38826577, -0.95567755],\n",
       "       [ 1.76755716,  1.00487708],\n",
       "       [-0.60301405, -0.36157009],\n",
       "       [-0.60301405, -1.07449904],\n",
       "       [ 0.81932867, -1.25273128],\n",
       "       [-1.83571108,  0.47018036],\n",
       "       [ 2.14684855,  0.94546633],\n",
       "       [-0.31854551,  0.05430514],\n",
       "       [-1.64606538, -1.0150883 ],\n",
       "       [-1.74088823, -1.4606689 ],\n",
       "       [ 0.34521443, -0.5695077 ],\n",
       "       [ 0.34521443,  0.05430514],\n",
       "       [ 0.15556874,  0.02459976],\n",
       "       [ 0.44003728, -0.15363248],\n",
       "       [-0.5081912 , -1.54978502],\n",
       "       [ 0.06074589, -0.59921307],\n",
       "       [-0.5081912 ,  1.39104693],\n",
       "       [ 0.34521443, -0.53980233],\n",
       "       [-0.03407696,  0.29194812],\n",
       "       [ 0.81932867,  0.76723409],\n",
       "       [ 1.48308861,  2.16338663],\n",
       "       [ 2.14684855, -0.71803457],\n",
       "       [ 0.25039158, -0.33186472],\n",
       "       [-0.8874826 ,  0.26224275],\n",
       "       [-0.6978369 , -0.62891845],\n",
       "       [-0.03407696,  0.26224275],\n",
       "       [-0.98230545,  0.41076961],\n",
       "       [ 0.34521443, -0.74773994],\n",
       "       [-0.8874826 ,  0.44047499],\n",
       "       [ 0.06074589, -0.59921307],\n",
       "       [-0.8874826 ,  0.41076961],\n",
       "       [-1.74088823,  0.44047499],\n",
       "       [-0.98230545,  0.76723409],\n",
       "       [-0.31854551, -0.80715069],\n",
       "       [-0.60301405, -0.06451636],\n",
       "       [ 0.06074589,  1.27222543],\n",
       "       [-0.98230545,  0.55929648],\n",
       "       [-0.79265975,  0.29194812],\n",
       "       [-1.45641969, -1.54978502],\n",
       "       [-0.6978369 ,  0.26224275],\n",
       "       [-0.8874826 ,  0.55929648],\n",
       "       [ 0.44003728, -0.15363248],\n",
       "       [-0.5081912 , -1.54978502],\n",
       "       [-0.98230545, -0.39127546],\n",
       "       [ 1.19862007, -1.0150883 ],\n",
       "       [-0.41336835, -0.30215934],\n",
       "       [ 1.48308861, -1.07449904],\n",
       "       [-0.12889981, -0.21304322],\n",
       "       [-0.12889981,  0.14342125],\n",
       "       [-1.26677399, -0.45068621],\n",
       "       [ 0.25039158,  1.0939932 ],\n",
       "       [-0.22372266, -0.36157009],\n",
       "       [ 0.91415152, -1.3418474 ],\n",
       "       [ 2.14684855,  1.12369857],\n",
       "       [-1.26677399,  0.55929648],\n",
       "       [-1.17195114,  0.29194812],\n",
       "       [ 1.95720286, -0.68832919],\n",
       "       [-1.26677399, -1.13390979],\n",
       "       [ 1.10379722,  0.47018036],\n",
       "       [ 0.25039158,  0.14342125],\n",
       "       [-1.83571108, -0.53980233],\n",
       "       [-0.8874826 ,  1.56927917],\n",
       "       [ 0.15556874,  0.202832  ],\n",
       "       [-0.5081912 ,  2.37132424],\n",
       "       [-0.03407696, -0.2427486 ],\n",
       "       [ 1.38826577,  2.01485976],\n",
       "       [-1.07712829, -1.63890113],\n",
       "       [ 1.29344292,  1.89603827],\n",
       "       [-0.03407696, -0.51009695],\n",
       "       [-0.60301405,  0.55929648],\n",
       "       [ 1.10379722, -1.25273128],\n",
       "       [-0.8874826 , -0.45068621],\n",
       "       [-0.03407696,  2.25250275],\n",
       "       [-0.98230545, -1.57949039],\n",
       "       [ 0.06074589, -0.5695077 ],\n",
       "       [-0.22372266,  0.05430514],\n",
       "       [ 0.25039158, -0.68832919],\n",
       "       [-0.22372266, -0.59921307],\n",
       "       [ 0.15556874,  0.14342125],\n",
       "       [-1.26677399,  0.41076961],\n",
       "       [-0.6978369 ,  0.29194812],\n",
       "       [-1.17195114, -1.10420442],\n",
       "       [ 0.06074589, -0.27245397],\n",
       "       [ 1.00897437, -0.86656143],\n",
       "       [ 1.67273431,  1.62868991],\n",
       "       [-0.22372266,  0.14342125],\n",
       "       [-0.12889981, -0.30215934],\n",
       "       [ 1.19862007, -0.77744531],\n",
       "       [-0.8874826 , -1.13390979],\n",
       "       [-1.36159684, -1.25273128],\n",
       "       [ 0.81932867, -1.40125815],\n",
       "       [-1.64606538,  0.47018036],\n",
       "       [-0.31854551, -0.80715069],\n",
       "       [ 1.10379722, -1.25273128],\n",
       "       [-0.22372266, -0.68832919],\n",
       "       [ 0.91415152, -0.59921307],\n",
       "       [ 0.72450583, -1.43096352],\n",
       "       [ 1.57791146,  1.00487708],\n",
       "       [-1.26677399, -1.52007964],\n",
       "       [ 0.81932867, -1.13390979],\n",
       "       [ 0.44003728,  0.29194812],\n",
       "       [ 1.10379722,  0.55929648],\n",
       "       [-0.12889981, -0.59921307],\n",
       "       [-1.83571108,  0.35135887],\n",
       "       [-1.55124254,  0.52959111],\n",
       "       [ 0.34521443,  0.26224275],\n",
       "       [-0.79265975, -0.68832919],\n",
       "       [-0.22372266, -0.95567755],\n",
       "       [-0.22372266,  0.52959111],\n",
       "       [-0.8874826 , -0.98538293],\n",
       "       [-0.6978369 ,  0.49988573],\n",
       "       [ 2.14684855, -0.83685606],\n",
       "       [ 2.0520257 ,  0.38106424],\n",
       "       [ 0.15556874,  1.06428782],\n",
       "       [ 1.00897437,  1.80692215],\n",
       "       [-1.17195114, -1.43096352],\n",
       "       [-0.22372266,  0.14342125],\n",
       "       [ 2.0520257 ,  0.52959111],\n",
       "       [ 0.15556874,  0.08401051],\n",
       "       [-0.03407696,  1.98515439],\n",
       "       [ 0.06074589, -0.33186472],\n",
       "       [-0.41336835, -0.80715069],\n",
       "       [ 1.00897437, -1.10420442],\n",
       "       [-1.74088823,  0.17312663],\n",
       "       [-0.22372266,  0.202832  ],\n",
       "       [-0.22372266, -0.27245397],\n",
       "       [ 1.67273431, -0.92597218],\n",
       "       [ 0.15556874,  1.53957379],\n",
       "       [-0.03407696, -0.53980233],\n",
       "       [ 1.38826577, -1.4606689 ],\n",
       "       [ 0.15556874,  1.89603827],\n",
       "       [ 0.34521443, -0.33186472],\n",
       "       [-1.74088823, -1.52007964],\n",
       "       [ 0.34521443,  0.02459976],\n",
       "       [ 1.48308861,  0.35135887],\n",
       "       [ 0.62968298,  2.04456514],\n",
       "       [ 0.91415152, -0.62891845],\n",
       "       [-0.03407696,  0.202832  ],\n",
       "       [ 1.86238001,  1.53957379],\n",
       "       [-0.22372266, -0.59921307],\n",
       "       [ 0.44003728, -0.48039158],\n",
       "       [-1.07712829,  1.4207523 ],\n",
       "       [ 0.53486013,  1.24252006],\n",
       "       [-0.12889981, -1.10420442],\n",
       "       [-0.98230545, -1.49037427],\n",
       "       [ 1.00897437,  0.11371588],\n",
       "       [ 0.53486013,  1.8663329 ],\n",
       "       [-0.41336835,  2.34161887],\n",
       "       [-0.8874826 ,  0.49988573],\n",
       "       [-1.07712829, -1.57949039],\n",
       "       [-0.79265975, -0.27245397],\n",
       "       [ 0.72450583, -1.31214203],\n",
       "       [-1.64606538,  0.35135887],\n",
       "       [-0.41336835, -1.16361516],\n",
       "       [ 0.44003728,  2.34161887],\n",
       "       [-1.64606538,  0.11371588],\n",
       "       [-0.22372266,  2.28220812],\n",
       "       [-0.41336835, -0.86656143],\n",
       "       [ 0.06074589, -0.15363248],\n",
       "       [-1.26677399, -0.36157009],\n",
       "       [ 1.95720286,  0.73752872],\n",
       "       [ 1.86238001, -1.10420442],\n",
       "       [ 1.00897437,  0.76723409],\n",
       "       [-0.6978369 , -1.57949039],\n",
       "       [ 0.25039158,  0.05430514],\n",
       "       [-0.8874826 , -0.33186472],\n",
       "       [ 1.10379722, -0.92597218],\n",
       "       [-0.6978369 ,  1.92574364],\n",
       "       [ 1.38826577,  1.30193081],\n",
       "       [-0.03407696, -1.10420442],\n",
       "       [-0.22372266,  0.05430514],\n",
       "       [-1.17195114,  0.49988573],\n",
       "       [-0.8874826 , -0.77744531],\n",
       "       [ 0.15556874,  0.02459976],\n",
       "       [-0.79265975,  2.3119135 ],\n",
       "       [ 2.0520257 , -0.83685606],\n",
       "       [-0.41336835, -0.03481098],\n",
       "       [ 2.14684855,  0.38106424],\n",
       "       [-1.36159684,  0.35135887],\n",
       "       [-1.07712829, -1.13390979],\n",
       "       [ 1.38826577,  0.58900185],\n",
       "       [-1.36159684, -1.49037427],\n",
       "       [ 0.34521443, -1.19332054],\n",
       "       [-0.22372266,  0.79693946],\n",
       "       [ 1.29344292, -1.40125815],\n",
       "       [ 0.91415152,  1.0939932 ],\n",
       "       [-0.60301405,  0.11371588],\n",
       "       [ 0.25039158,  0.02459976],\n",
       "       [-1.55124254, -0.06451636],\n",
       "       [-0.5081912 ,  1.92574364],\n",
       "       [-1.74088823, -1.3418474 ],\n",
       "       [ 0.91415152, -1.40125815],\n",
       "       [ 0.81932867,  0.26224275],\n",
       "       [ 1.86238001, -0.30215934],\n",
       "       [ 0.91415152,  2.193092  ],\n",
       "       [-1.07712829, -1.19332054],\n",
       "       [-0.60301405,  0.17312663],\n",
       "       [ 0.25039158, -0.39127546],\n",
       "       [ 1.95720286,  2.193092  ],\n",
       "       [-0.60301405, -1.63890113],\n",
       "       [-0.12889981,  1.62868991],\n",
       "       [-0.41336835,  1.27222543],\n",
       "       [ 0.15556874, -0.33186472],\n",
       "       [-0.6978369 , -0.2427486 ],\n",
       "       [-0.03407696,  0.29194812],\n",
       "       [ 1.10379722, -0.15363248],\n",
       "       [-0.79265975,  0.38106424],\n",
       "       [ 1.00897437,  1.45045767],\n",
       "       [ 0.25039158, -0.39127546],\n",
       "       [-0.22372266, -0.77744531],\n",
       "       [ 1.00897437, -1.04479367],\n",
       "       [ 0.44003728,  0.08401051],\n",
       "       [ 0.91415152, -1.07449904],\n",
       "       [ 0.91415152,  1.03458245],\n",
       "       [ 2.0520257 ,  0.17312663],\n",
       "       [-0.98230545, -1.16361516],\n",
       "       [ 2.0520257 ,  1.77721678],\n",
       "       [ 0.44003728, -0.48039158],\n",
       "       [-1.07712829,  0.29194812],\n",
       "       [ 1.67273431,  1.77721678],\n",
       "       [-1.64606538,  0.35135887],\n",
       "       [ 0.15556874,  1.89603827],\n",
       "       [ 0.25039158, -0.39127546],\n",
       "       [ 0.34521443,  0.49988573],\n",
       "       [-1.07712829,  0.32165349],\n",
       "       [-1.07712829, -1.04479367],\n",
       "       [ 0.44003728,  1.00487708],\n",
       "       [-0.22372266, -0.39127546],\n",
       "       [-0.22372266, -0.15363248],\n",
       "       [ 0.44003728, -0.51009695],\n",
       "       [ 1.00897437,  0.58900185],\n",
       "       [ 0.91415152, -1.19332054],\n",
       "       [-0.22372266, -0.92597218],\n",
       "       [-1.07712829,  0.29194812],\n",
       "       [-0.41336835, -0.5695077 ],\n",
       "       [-1.45641969,  0.32165349],\n",
       "       [-0.03407696,  0.11371588],\n",
       "       [ 1.00897437,  2.01485976],\n",
       "       [-0.8874826 , -0.33186472],\n",
       "       [ 0.44003728, -0.18333785],\n",
       "       [-0.22372266, -1.28243666],\n",
       "       [ 0.25039158,  0.23253737],\n",
       "       [ 0.44003728, -0.00510561],\n",
       "       [ 2.14684855, -0.83685606],\n",
       "       [ 1.57791146,  1.12369857],\n",
       "       [-0.5081912 ,  1.39104693],\n",
       "       [-0.22372266,  0.26224275],\n",
       "       [-0.22372266,  1.12369857],\n",
       "       [-0.6978369 , -1.63890113],\n",
       "       [-1.07712829,  0.41076961],\n",
       "       [ 0.44003728,  0.26224275],\n",
       "       [ 0.44003728,  0.14342125],\n",
       "       [-0.03407696,  0.14342125],\n",
       "       [-1.07712829,  0.47018036],\n",
       "       [ 1.57791146, -0.00510561],\n",
       "       [-0.60301405, -1.54978502],\n",
       "       [ 0.72450583, -1.13390979],\n",
       "       [-1.74088823, -0.00510561],\n",
       "       [ 1.57791146, -1.31214203],\n",
       "       [ 1.76755716, -0.30215934],\n",
       "       [ 0.06074589,  0.02459976],\n",
       "       [ 1.00897437,  2.10397588],\n",
       "       [-0.22372266, -1.49037427],\n",
       "       [-1.55124254,  0.05430514]])"
      ]
     },
     "execution_count": 147,
     "metadata": {},
     "output_type": "execute_result"
    }
   ],
   "source": [
    "x_train = scaler.fit_transform(x_train)\n",
    "x_train"
   ]
  },
  {
   "cell_type": "code",
   "execution_count": 148,
   "id": "3de48052",
   "metadata": {
    "scrolled": true
   },
   "outputs": [
    {
     "data": {
      "text/plain": [
       "array([[-0.41336835, -1.25273128],\n",
       "       [ 0.15556874, -0.83685606],\n",
       "       [-0.22372266, -1.43096352],\n",
       "       [ 0.06074589,  0.02459976],\n",
       "       [ 1.38826577,  2.37132424],\n",
       "       [ 0.06074589,  0.29194812],\n",
       "       [-0.22372266,  0.02459976],\n",
       "       [ 0.72450583, -1.43096352],\n",
       "       [-1.17195114,  0.58900185],\n",
       "       [ 0.25039158,  2.13368126],\n",
       "       [-1.83571108, -0.77744531],\n",
       "       [-0.22372266, -0.30215934],\n",
       "       [ 1.10379722,  0.11371588],\n",
       "       [ 0.91415152, -1.49037427],\n",
       "       [-1.36159684, -0.1239271 ],\n",
       "       [ 1.10379722, -1.0150883 ],\n",
       "       [ 1.00897437, -1.19332054],\n",
       "       [ 1.00897437, -1.22302591],\n",
       "       [ 0.91415152, -0.80715069],\n",
       "       [-0.22372266, -1.3418474 ],\n",
       "       [-0.5081912 ,  0.88605558],\n",
       "       [ 0.81932867,  0.52959111],\n",
       "       [ 1.95720286, -1.40125815],\n",
       "       [-0.79265975, -1.25273128],\n",
       "       [ 1.10379722,  0.52959111],\n",
       "       [-1.36159684, -0.21304322],\n",
       "       [-0.12889981,  1.65839529],\n",
       "       [ 1.86238001,  0.11371588],\n",
       "       [ 0.44003728,  0.29194812],\n",
       "       [ 0.44003728,  1.12369857],\n",
       "       [-0.6978369 ,  1.36134155],\n",
       "       [-1.36159684, -0.65862382],\n",
       "       [ 0.15556874, -0.27245397],\n",
       "       [ 0.25039158, -0.30215934],\n",
       "       [-0.98230545,  1.98515439],\n",
       "       [ 0.91415152,  1.27222543],\n",
       "       [ 0.81932867, -0.86656143],\n",
       "       [-1.64606538, -1.40125815],\n",
       "       [ 0.81932867,  1.39104693],\n",
       "       [-1.55124254, -1.60919576],\n",
       "       [ 0.34521443,  0.05430514],\n",
       "       [-0.03407696,  0.02459976],\n",
       "       [ 1.00897437,  1.89603827],\n",
       "       [ 1.86238001, -1.31214203],\n",
       "       [-0.31854551,  1.33163618],\n",
       "       [ 0.62968298, -0.92597218],\n",
       "       [-0.03407696,  2.193092  ],\n",
       "       [-0.31854551, -1.3418474 ],\n",
       "       [ 0.91415152, -0.68832919],\n",
       "       [ 1.19862007,  0.52959111],\n",
       "       [-0.5081912 ,  0.47018036],\n",
       "       [ 0.15556874,  0.76723409],\n",
       "       [ 1.48308861,  1.00487708],\n",
       "       [ 0.06074589, -0.45068621],\n",
       "       [-0.12889981, -0.53980233],\n",
       "       [-0.03407696, -0.45068621],\n",
       "       [-0.6978369 ,  1.0939932 ],\n",
       "       [-0.12889981,  0.85635021],\n",
       "       [-0.03407696,  0.23253737],\n",
       "       [ 0.34521443,  0.29194812],\n",
       "       [-1.07712829, -1.60919576],\n",
       "       [ 0.34521443, -0.21304322],\n",
       "       [ 0.91415152, -0.5695077 ],\n",
       "       [ 2.14684855, -1.07449904],\n",
       "       [-1.17195114,  0.26224275],\n",
       "       [-0.79265975,  0.14342125],\n",
       "       [-0.03407696, -0.39127546],\n",
       "       [ 0.72450583,  1.80692215],\n",
       "       [-1.74088823, -1.31214203],\n",
       "       [ 1.00897437, -1.10420442],\n",
       "       [-1.07712829, -0.53980233],\n",
       "       [-0.98230545,  0.58900185],\n",
       "       [ 1.48308861,  0.05430514],\n",
       "       [-0.60301405,  1.4207523 ],\n",
       "       [ 0.81932867, -1.43096352],\n",
       "       [ 0.81932867,  0.11371588],\n",
       "       [ 0.34521443,  0.05430514],\n",
       "       [ 2.0520257 , -1.22302591],\n",
       "       [-0.03407696,  0.67811797],\n",
       "       [-1.26677399, -1.28243666]])"
      ]
     },
     "execution_count": 148,
     "metadata": {},
     "output_type": "execute_result"
    }
   ],
   "source": [
    "x_test = scaler.transform(x_test)\n",
    "x_test"
   ]
  },
  {
   "cell_type": "markdown",
   "id": "ef8e036d",
   "metadata": {},
   "source": [
    "# applying Knn\n",
    "### 1st Method"
   ]
  },
  {
   "cell_type": "code",
   "execution_count": 149,
   "id": "045c6a13",
   "metadata": {},
   "outputs": [
    {
     "data": {
      "text/plain": [
       "17.88854381999832"
      ]
     },
     "execution_count": 149,
     "metadata": {},
     "output_type": "execute_result"
    }
   ],
   "source": [
    "np.sqrt(x_train.shape[0])"
   ]
  },
  {
   "cell_type": "code",
   "execution_count": 150,
   "id": "342e8167",
   "metadata": {},
   "outputs": [],
   "source": [
    "k=17"
   ]
  },
  {
   "cell_type": "code",
   "execution_count": 151,
   "id": "f2e4c849",
   "metadata": {},
   "outputs": [],
   "source": [
    "from sklearn.neighbors import KNeighborsClassifier\n",
    "knn = KNeighborsClassifier(n_neighbors=k)"
   ]
  },
  {
   "cell_type": "code",
   "execution_count": 152,
   "id": "6bd63775",
   "metadata": {},
   "outputs": [
    {
     "data": {
      "text/html": [
       "<style>#sk-container-id-7 {color: black;}#sk-container-id-7 pre{padding: 0;}#sk-container-id-7 div.sk-toggleable {background-color: white;}#sk-container-id-7 label.sk-toggleable__label {cursor: pointer;display: block;width: 100%;margin-bottom: 0;padding: 0.3em;box-sizing: border-box;text-align: center;}#sk-container-id-7 label.sk-toggleable__label-arrow:before {content: \"▸\";float: left;margin-right: 0.25em;color: #696969;}#sk-container-id-7 label.sk-toggleable__label-arrow:hover:before {color: black;}#sk-container-id-7 div.sk-estimator:hover label.sk-toggleable__label-arrow:before {color: black;}#sk-container-id-7 div.sk-toggleable__content {max-height: 0;max-width: 0;overflow: hidden;text-align: left;background-color: #f0f8ff;}#sk-container-id-7 div.sk-toggleable__content pre {margin: 0.2em;color: black;border-radius: 0.25em;background-color: #f0f8ff;}#sk-container-id-7 input.sk-toggleable__control:checked~div.sk-toggleable__content {max-height: 200px;max-width: 100%;overflow: auto;}#sk-container-id-7 input.sk-toggleable__control:checked~label.sk-toggleable__label-arrow:before {content: \"▾\";}#sk-container-id-7 div.sk-estimator input.sk-toggleable__control:checked~label.sk-toggleable__label {background-color: #d4ebff;}#sk-container-id-7 div.sk-label input.sk-toggleable__control:checked~label.sk-toggleable__label {background-color: #d4ebff;}#sk-container-id-7 input.sk-hidden--visually {border: 0;clip: rect(1px 1px 1px 1px);clip: rect(1px, 1px, 1px, 1px);height: 1px;margin: -1px;overflow: hidden;padding: 0;position: absolute;width: 1px;}#sk-container-id-7 div.sk-estimator {font-family: monospace;background-color: #f0f8ff;border: 1px dotted black;border-radius: 0.25em;box-sizing: border-box;margin-bottom: 0.5em;}#sk-container-id-7 div.sk-estimator:hover {background-color: #d4ebff;}#sk-container-id-7 div.sk-parallel-item::after {content: \"\";width: 100%;border-bottom: 1px solid gray;flex-grow: 1;}#sk-container-id-7 div.sk-label:hover label.sk-toggleable__label {background-color: #d4ebff;}#sk-container-id-7 div.sk-serial::before {content: \"\";position: absolute;border-left: 1px solid gray;box-sizing: border-box;top: 0;bottom: 0;left: 50%;z-index: 0;}#sk-container-id-7 div.sk-serial {display: flex;flex-direction: column;align-items: center;background-color: white;padding-right: 0.2em;padding-left: 0.2em;position: relative;}#sk-container-id-7 div.sk-item {position: relative;z-index: 1;}#sk-container-id-7 div.sk-parallel {display: flex;align-items: stretch;justify-content: center;background-color: white;position: relative;}#sk-container-id-7 div.sk-item::before, #sk-container-id-7 div.sk-parallel-item::before {content: \"\";position: absolute;border-left: 1px solid gray;box-sizing: border-box;top: 0;bottom: 0;left: 50%;z-index: -1;}#sk-container-id-7 div.sk-parallel-item {display: flex;flex-direction: column;z-index: 1;position: relative;background-color: white;}#sk-container-id-7 div.sk-parallel-item:first-child::after {align-self: flex-end;width: 50%;}#sk-container-id-7 div.sk-parallel-item:last-child::after {align-self: flex-start;width: 50%;}#sk-container-id-7 div.sk-parallel-item:only-child::after {width: 0;}#sk-container-id-7 div.sk-dashed-wrapped {border: 1px dashed gray;margin: 0 0.4em 0.5em 0.4em;box-sizing: border-box;padding-bottom: 0.4em;background-color: white;}#sk-container-id-7 div.sk-label label {font-family: monospace;font-weight: bold;display: inline-block;line-height: 1.2em;}#sk-container-id-7 div.sk-label-container {text-align: center;}#sk-container-id-7 div.sk-container {/* jupyter's `normalize.less` sets `[hidden] { display: none; }` but bootstrap.min.css set `[hidden] { display: none !important; }` so we also need the `!important` here to be able to override the default hidden behavior on the sphinx rendered scikit-learn.org. See: https://github.com/scikit-learn/scikit-learn/issues/21755 */display: inline-block !important;position: relative;}#sk-container-id-7 div.sk-text-repr-fallback {display: none;}</style><div id=\"sk-container-id-7\" class=\"sk-top-container\"><div class=\"sk-text-repr-fallback\"><pre>KNeighborsClassifier(n_neighbors=17)</pre><b>In a Jupyter environment, please rerun this cell to show the HTML representation or trust the notebook. <br />On GitHub, the HTML representation is unable to render, please try loading this page with nbviewer.org.</b></div><div class=\"sk-container\" hidden><div class=\"sk-item\"><div class=\"sk-estimator sk-toggleable\"><input class=\"sk-toggleable__control sk-hidden--visually\" id=\"sk-estimator-id-7\" type=\"checkbox\" checked><label for=\"sk-estimator-id-7\" class=\"sk-toggleable__label sk-toggleable__label-arrow\">KNeighborsClassifier</label><div class=\"sk-toggleable__content\"><pre>KNeighborsClassifier(n_neighbors=17)</pre></div></div></div></div></div>"
      ],
      "text/plain": [
       "KNeighborsClassifier(n_neighbors=17)"
      ]
     },
     "execution_count": 152,
     "metadata": {},
     "output_type": "execute_result"
    }
   ],
   "source": [
    "# Train our model\n",
    "knn.fit(x_train,y_train)"
   ]
  },
  {
   "cell_type": "code",
   "execution_count": 153,
   "id": "0e1b0d3a",
   "metadata": {},
   "outputs": [],
   "source": [
    "y_pred = knn.predict(x_test)\n"
   ]
  },
  {
   "cell_type": "code",
   "execution_count": 154,
   "id": "69c290e4",
   "metadata": {},
   "outputs": [
    {
     "data": {
      "text/plain": [
       "(80,)"
      ]
     },
     "execution_count": 154,
     "metadata": {},
     "output_type": "execute_result"
    }
   ],
   "source": [
    "y_pred.shape"
   ]
  },
  {
   "cell_type": "code",
   "execution_count": 155,
   "id": "228f55b8",
   "metadata": {},
   "outputs": [
    {
     "data": {
      "text/plain": [
       "(80,)"
      ]
     },
     "execution_count": 155,
     "metadata": {},
     "output_type": "execute_result"
    }
   ],
   "source": [
    "y_test.shape"
   ]
  },
  {
   "cell_type": "code",
   "execution_count": 156,
   "id": "4cf2ec67",
   "metadata": {},
   "outputs": [
    {
     "data": {
      "text/plain": [
       "0.8625"
      ]
     },
     "execution_count": 156,
     "metadata": {},
     "output_type": "execute_result"
    }
   ],
   "source": [
    "# checking accuracy\n",
    "from sklearn.metrics import accuracy_score\n",
    "accuracy_score(y_test,y_pred)"
   ]
  },
  {
   "cell_type": "code",
   "execution_count": 157,
   "id": "befe0787",
   "metadata": {},
   "outputs": [
    {
     "data": {
      "text/plain": [
       "array([[38,  7],\n",
       "       [ 4, 31]], dtype=int64)"
      ]
     },
     "execution_count": 157,
     "metadata": {},
     "output_type": "execute_result"
    }
   ],
   "source": [
    "# calculating confusion metrix\n",
    "from sklearn.metrics import confusion_matrix\n",
    "confusion_matrix(y_test,y_pred)"
   ]
  },
  {
   "cell_type": "markdown",
   "id": "9c81a55e",
   "metadata": {},
   "source": [
    "### 2nd method"
   ]
  },
  {
   "cell_type": "code",
   "execution_count": 158,
   "id": "3d76c184",
   "metadata": {},
   "outputs": [],
   "source": [
    "accuracy = []\n",
    "for i in range(1,26):\n",
    "    knn = KNeighborsClassifier(n_neighbors=i)\n",
    "    knn.fit(x_train,y_train)\n",
    "    accuracy.append(accuracy_score(y_test,knn.predict(x_test)))"
   ]
  },
  {
   "cell_type": "code",
   "execution_count": 159,
   "id": "4bd822d5",
   "metadata": {},
   "outputs": [
    {
     "data": {
      "text/plain": [
       "25"
      ]
     },
     "execution_count": 159,
     "metadata": {},
     "output_type": "execute_result"
    }
   ],
   "source": [
    "len(accuracy)"
   ]
  },
  {
   "cell_type": "code",
   "execution_count": 160,
   "id": "b2541d9d",
   "metadata": {},
   "outputs": [
    {
     "data": {
      "text/plain": [
       "[<matplotlib.lines.Line2D at 0x1c2c452f950>]"
      ]
     },
     "execution_count": 160,
     "metadata": {},
     "output_type": "execute_result"
    },
    {
     "data": {
      "image/png": "[encoded data removed]",
      "text/plain": [
       "<Figure size 640x480 with 1 Axes>"
      ]
     },
     "metadata": {},
     "output_type": "display_data"
    }
   ],
   "source": [
    "plt.plot(range(1,26),accuracy)"
   ]
  },
  {
   "cell_type": "code",
   "execution_count": 87,
   "id": "0be7830f",
   "metadata": {},
   "outputs": [
    {
     "data": {
      "text/html": [
       "<style>#sk-container-id-6 {color: black;}#sk-container-id-6 pre{padding: 0;}#sk-container-id-6 div.sk-toggleable {background-color: white;}#sk-container-id-6 label.sk-toggleable__label {cursor: pointer;display: block;width: 100%;margin-bottom: 0;padding: 0.3em;box-sizing: border-box;text-align: center;}#sk-container-id-6 label.sk-toggleable__label-arrow:before {content: \"▸\";float: left;margin-right: 0.25em;color: #696969;}#sk-container-id-6 label.sk-toggleable__label-arrow:hover:before {color: black;}#sk-container-id-6 div.sk-estimator:hover label.sk-toggleable__label-arrow:before {color: black;}#sk-container-id-6 div.sk-toggleable__content {max-height: 0;max-width: 0;overflow: hidden;text-align: left;background-color: #f0f8ff;}#sk-container-id-6 div.sk-toggleable__content pre {margin: 0.2em;color: black;border-radius: 0.25em;background-color: #f0f8ff;}#sk-container-id-6 input.sk-toggleable__control:checked~div.sk-toggleable__content {max-height: 200px;max-width: 100%;overflow: auto;}#sk-container-id-6 input.sk-toggleable__control:checked~label.sk-toggleable__label-arrow:before {content: \"▾\";}#sk-container-id-6 div.sk-estimator input.sk-toggleable__control:checked~label.sk-toggleable__label {background-color: #d4ebff;}#sk-container-id-6 div.sk-label input.sk-toggleable__control:checked~label.sk-toggleable__label {background-color: #d4ebff;}#sk-container-id-6 input.sk-hidden--visually {border: 0;clip: rect(1px 1px 1px 1px);clip: rect(1px, 1px, 1px, 1px);height: 1px;margin: -1px;overflow: hidden;padding: 0;position: absolute;width: 1px;}#sk-container-id-6 div.sk-estimator {font-family: monospace;background-color: #f0f8ff;border: 1px dotted black;border-radius: 0.25em;box-sizing: border-box;margin-bottom: 0.5em;}#sk-container-id-6 div.sk-estimator:hover {background-color: #d4ebff;}#sk-container-id-6 div.sk-parallel-item::after {content: \"\";width: 100%;border-bottom: 1px solid gray;flex-grow: 1;}#sk-container-id-6 div.sk-label:hover label.sk-toggleable__label {background-color: #d4ebff;}#sk-container-id-6 div.sk-serial::before {content: \"\";position: absolute;border-left: 1px solid gray;box-sizing: border-box;top: 0;bottom: 0;left: 50%;z-index: 0;}#sk-container-id-6 div.sk-serial {display: flex;flex-direction: column;align-items: center;background-color: white;padding-right: 0.2em;padding-left: 0.2em;position: relative;}#sk-container-id-6 div.sk-item {position: relative;z-index: 1;}#sk-container-id-6 div.sk-parallel {display: flex;align-items: stretch;justify-content: center;background-color: white;position: relative;}#sk-container-id-6 div.sk-item::before, #sk-container-id-6 div.sk-parallel-item::before {content: \"\";position: absolute;border-left: 1px solid gray;box-sizing: border-box;top: 0;bottom: 0;left: 50%;z-index: -1;}#sk-container-id-6 div.sk-parallel-item {display: flex;flex-direction: column;z-index: 1;position: relative;background-color: white;}#sk-container-id-6 div.sk-parallel-item:first-child::after {align-self: flex-end;width: 50%;}#sk-container-id-6 div.sk-parallel-item:last-child::after {align-self: flex-start;width: 50%;}#sk-container-id-6 div.sk-parallel-item:only-child::after {width: 0;}#sk-container-id-6 div.sk-dashed-wrapped {border: 1px dashed gray;margin: 0 0.4em 0.5em 0.4em;box-sizing: border-box;padding-bottom: 0.4em;background-color: white;}#sk-container-id-6 div.sk-label label {font-family: monospace;font-weight: bold;display: inline-block;line-height: 1.2em;}#sk-container-id-6 div.sk-label-container {text-align: center;}#sk-container-id-6 div.sk-container {/* jupyter's `normalize.less` sets `[hidden] { display: none; }` but bootstrap.min.css set `[hidden] { display: none !important; }` so we also need the `!important` here to be able to override the default hidden behavior on the sphinx rendered scikit-learn.org. See: https://github.com/scikit-learn/scikit-learn/issues/21755 */display: inline-block !important;position: relative;}#sk-container-id-6 div.sk-text-repr-fallback {display: none;}</style><div id=\"sk-container-id-6\" class=\"sk-top-container\"><div class=\"sk-text-repr-fallback\"><pre>KNeighborsClassifier(n_neighbors=4)</pre><b>In a Jupyter environment, please rerun this cell to show the HTML representation or trust the notebook. <br />On GitHub, the HTML representation is unable to render, please try loading this page with nbviewer.org.</b></div><div class=\"sk-container\" hidden><div class=\"sk-item\"><div class=\"sk-estimator sk-toggleable\"><input class=\"sk-toggleable__control sk-hidden--visually\" id=\"sk-estimator-id-6\" type=\"checkbox\" checked><label for=\"sk-estimator-id-6\" class=\"sk-toggleable__label sk-toggleable__label-arrow\">KNeighborsClassifier</label><div class=\"sk-toggleable__content\"><pre>KNeighborsClassifier(n_neighbors=4)</pre></div></div></div></div></div>"
      ],
      "text/plain": [
       "KNeighborsClassifier(n_neighbors=4)"
      ]
     },
     "execution_count": 87,
     "metadata": {},
     "output_type": "execute_result"
    }
   ],
   "source": [
    "knn = KNeighborsClassifier(n_neighbors=4)\n",
    "knn.fit(x_train,y_train)"
   ]
  },
  {
   "cell_type": "code",
   "execution_count": 88,
   "id": "0ed44225",
   "metadata": {},
   "outputs": [],
   "source": [
    "y_pred = knn.predict(x_test)"
   ]
  },
  {
   "cell_type": "code",
   "execution_count": 89,
   "id": "177df073",
   "metadata": {},
   "outputs": [
    {
     "data": {
      "text/plain": [
       "0.9"
      ]
     },
     "execution_count": 89,
     "metadata": {},
     "output_type": "execute_result"
    }
   ],
   "source": [
    "accuracy_score(y_test,y_pred)"
   ]
  },
  {
   "cell_type": "markdown",
   "id": "d1c56ee2",
   "metadata": {},
   "source": [
    "### Creating a fun which can show as a output if we will provide a new input"
   ]
  },
  {
   "cell_type": "code",
   "execution_count": 132,
   "id": "18808fd4",
   "metadata": {},
   "outputs": [],
   "source": [
    "def predict_output():\n",
    "    age = int(input(\"Enter the age - \"))\n",
    "    salary = int(input(\"Enter the salary - \"))\n",
    "    \n",
    "    x_new = np.array([[age],[salary]]).reshape(1,2)\n",
    "    x_new = scaler.transform(x_new)\n",
    "    \n",
    "    if knn.predict(x_new)[0]==0:\n",
    "        return \"will not purchase\"\n",
    "    else:\n",
    "        return \"will purchase\"\n",
    "    "
   ]
  },
  {
   "cell_type": "code",
   "execution_count": 133,
   "id": "a7deb4e5",
   "metadata": {},
   "outputs": [
    {
     "name": "stdout",
     "output_type": "stream",
     "text": [
      "Enter the age - 40\n",
      "Enter the salary - 120000\n"
     ]
    },
    {
     "data": {
      "text/plain": [
       "'will purchase'"
      ]
     },
     "execution_count": 133,
     "metadata": {},
     "output_type": "execute_result"
    }
   ],
   "source": [
    "predict_output()"
   ]
  },
  {
   "cell_type": "markdown",
   "id": "6346a553",
   "metadata": {},
   "source": [
    "# 1. Decision Boundary for Knn"
   ]
  },
  {
   "cell_type": "markdown",
   "id": "c7683b56",
   "metadata": {},
   "source": [
    "#### 1. What is Decision Boundary \n"
   ]
  },
  {
   "cell_type": "markdown",
   "id": "0cf2e9e2",
   "metadata": {},
   "source": [
    "In a decision boundary or decision surface is a hypersurface that partitions the underlying vector space into two sets, one for each class. The classifier will classify all the points on one side of the decision boundary as belonging to one class and all those on the other side as belonging to the other class."
   ]
  },
  {
   "attachments": {
    "1701429495460.png": {
     "image/png": "[encoded data removed]"
    }
   },
   "cell_type": "markdown",
   "id": "68381f6f",
   "metadata": {},
   "source": [
    "![1701429495460.png](attachment:1701429495460.png)"
   ]
  },
  {
   "cell_type": "markdown",
   "id": "046d6a3a",
   "metadata": {},
   "source": [
    "### Important Points\n",
    "\n",
    "1. We can draw decision boundary for all the classification algorithms including Neural networks\n",
    "\n",
    "2. Decision boundry can be both linear(as in the case of SVM) or non-linera(as in the cost of Decision tree classifier or Knn)\n",
    "\n",
    "3. Decision boundaries are not always clear cut. That is the transition from one class in the feature space to another is not discontinous, but gradual. This effect is common in fuzzy logic based classification algorithms, where membership in one class or another is ambiguous.\n",
    "\n",
    "4. For higher dimension problem the decision boundry acts as a hyperplane(for liner ones)"
   ]
  },
  {
   "cell_type": "markdown",
   "id": "d989c531",
   "metadata": {},
   "source": [
    "### Vornoi Diagram\n",
    "\n",
    "In mathematics, a Vornoi diagram is a partitioning of a plane into regions based on distance to points in a specific subset of the plan."
   ]
  },
  {
   "attachments": {
    "0_qjVDDhj6QVdrmuSP.png": {
     "image/png": "[encoded data removed]"
    }
   },
   "cell_type": "markdown",
   "id": "8c8b8ae3",
   "metadata": {},
   "source": [
    "![0_qjVDDhj6QVdrmuSP.png](attachment:0_qjVDDhj6QVdrmuSP.png)"
   ]
  },
  {
   "cell_type": "markdown",
   "id": "c94b5b68",
   "metadata": {},
   "source": [
    "### Steps to plot Decision Boundary for Knn (Assumning 2 input cols)\n",
    "\n",
    "1. Train the classifier on the training set.\n",
    "\n",
    "2. Create a uniform grid(with the help of Numpy Meshgrids) of points that densely cover the region of input space containing the training set.\n",
    "\n",
    "3. Classify each point on the grid. Store the results in an array A, where Aij contains the predicted class for the point at row i, column j on the grid.\n",
    "\n",
    "4. Plot the  array as an image. Where each pixel corresponds to a grid points and its color represents the predicted class. The decision boundary can be seen as contours where the image changes color.\n",
    "\n",
    "5. Finally print out the training data with their respective color on the same contour"
   ]
  },
  {
   "cell_type": "markdown",
   "id": "f0627998",
   "metadata": {},
   "source": [
    "### Step:2 Creating a Meshgrid\n",
    "    "
   ]
  },
  {
   "cell_type": "code",
   "execution_count": 111,
   "id": "bf7285b1",
   "metadata": {},
   "outputs": [],
   "source": [
    "a=np.arange(start=x_train[:,0].min()-1, stop=x_train[:,0].max()+1, step=0.01)\n",
    "b=np.arange(start=x_train[:,1].min()-1, stop=x_train[:,1].max()+1, step=0.01)\n",
    "\n",
    "xx,yy=np.meshgrid(a,b)"
   ]
  },
  {
   "cell_type": "code",
   "execution_count": 112,
   "id": "b92670d7",
   "metadata": {},
   "outputs": [
    {
     "data": {
      "text/plain": [
       "(598, 598)"
      ]
     },
     "execution_count": 112,
     "metadata": {},
     "output_type": "execute_result"
    }
   ],
   "source": [
    "yy.shape"
   ]
  },
  {
   "cell_type": "markdown",
   "id": "bcc9d407",
   "metadata": {},
   "source": [
    "### Step:3 Clssifiying every point on the meshgrid"
   ]
  },
  {
   "cell_type": "code",
   "execution_count": 119,
   "id": "a64591a4",
   "metadata": {},
   "outputs": [],
   "source": [
    "input_array=np.array([xx.ravel(),yy.ravel()]).T # ravel, is used to change a 2-dimensional array or a multi-dimensional array into a contiguous flattened array. \n",
    "\n",
    "labels=knn.predict(input_array)"
   ]
  },
  {
   "cell_type": "code",
   "execution_count": 120,
   "id": "ac75736b",
   "metadata": {},
   "outputs": [
    {
     "data": {
      "text/plain": [
       "array([0, 0, 0, ..., 1, 1, 1], dtype=int64)"
      ]
     },
     "execution_count": 120,
     "metadata": {},
     "output_type": "execute_result"
    }
   ],
   "source": [
    "labels"
   ]
  },
  {
   "cell_type": "markdown",
   "id": "8c3ed6ff",
   "metadata": {},
   "source": [
    "### Step:4 Plotting the array as an image"
   ]
  },
  {
   "cell_type": "code",
   "execution_count": 121,
   "id": "d1d806af",
   "metadata": {},
   "outputs": [
    {
     "data": {
      "text/plain": [
       "<matplotlib.contour.QuadContourSet at 0x1c2c42533d0>"
      ]
     },
     "execution_count": 121,
     "metadata": {},
     "output_type": "execute_result"
    },
    {
     "data": {
      "image/png": "[encoded data removed]",
      "text/plain": [
       "<Figure size 640x480 with 1 Axes>"
      ]
     },
     "metadata": {},
     "output_type": "display_data"
    }
   ],
   "source": [
    "plt.contourf(xx,yy,labels.reshape(xx.shape))"
   ]
  },
  {
   "cell_type": "code",
   "execution_count": null,
   "id": "6fd941dc",
   "metadata": {},
   "outputs": [],
   "source": []
  },
  {
   "cell_type": "markdown",
   "id": "e79e7e41",
   "metadata": {},
   "source": [
    "### Step 5: Plotting all the training data on the plot "
   ]
  },
  {
   "cell_type": "code",
   "execution_count": 131,
   "id": "20a06dae",
   "metadata": {},
   "outputs": [
    {
     "data": {
      "text/plain": [
       "<matplotlib.collections.PathCollection at 0x1c2c70f3890>"
      ]
     },
     "execution_count": 131,
     "metadata": {},
     "output_type": "execute_result"
    },
    {
     "data": {
      "image/png": "[encoded data removed]",
      "text/plain": [
       "<Figure size 640x480 with 1 Axes>"
      ]
     },
     "metadata": {},
     "output_type": "display_data"
    }
   ],
   "source": [
    "plt.contourf(xx,yy,labels.reshape(xx.shape), alpha=0.8)\n",
    "plt.scatter(x_train[:,0],x_train[:,1], c=y_train)"
   ]
  },
  {
   "cell_type": "code",
   "execution_count": 134,
   "id": "bf1c7cf6",
   "metadata": {},
   "outputs": [],
   "source": [
    "# effect of K on Training Error rate and Validation Error rate \n",
    "\n",
    "error_train=[]\n",
    "error_test=[]\n",
    "\n",
    "for i in range(1,26):\n",
    "    knn=KNeighborsClassifier(n_neighbors=i)\n",
    "    knn.fit(x_train,y_train)\n",
    "    x=confusion_matrix(y_train,knn.predict(x_train))\n",
    "    y=confusion_matrix(y_test,knn.predict(x_test))\n",
    "    error_train.append((x[0][1]+x[1][0])/x.sum())\n",
    "    error_test.append((y[0][1]+x[1][0])/y.sum())"
   ]
  },
  {
   "cell_type": "code",
   "execution_count": 135,
   "id": "1b9a8fd6",
   "metadata": {},
   "outputs": [
    {
     "data": {
      "text/plain": [
       "<matplotlib.legend.Legend at 0x1c2c43ee010>"
      ]
     },
     "execution_count": 135,
     "metadata": {},
     "output_type": "execute_result"
    },
    {
     "data": {
      "image/png": "[encoded data removed]",
      "text/plain": [
       "<Figure size 640x480 with 1 Axes>"
      ]
     },
     "metadata": {},
     "output_type": "display_data"
    }
   ],
   "source": [
    "plt.plot(range(1,26),error_train,label='training error rate')\n",
    "plt.plot(range(1,26),error_train,label='test/validation error rate')\n",
    "plt.xlabel('k value')\n",
    "plt.ylabel('Error')\n",
    "plt.legend()"
   ]
  },
  {
   "cell_type": "code",
   "execution_count": null,
   "id": "6a7d2c1d",
   "metadata": {},
   "outputs": [],
   "source": []
  }
 ],
 "metadata": {
  "kernelspec": {
   "display_name": "Python 3 (ipykernel)",
   "language": "python",
   "name": "python3"
  },
  "language_info": {
   "codemirror_mode": {
    "name": "ipython",
    "version": 3
   },
   "file_extension": ".py",
   "mimetype": "text/x-python",
   "name": "python",
   "nbconvert_exporter": "python",
   "pygments_lexer": "ipython3",
   "version": "3.11.5"
  }
 },
 "nbformat": 4,
 "nbformat_minor": 5
}
